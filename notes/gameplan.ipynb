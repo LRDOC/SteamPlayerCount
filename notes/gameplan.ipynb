{
 "cells": [
  {
   "cell_type": "markdown",
   "metadata": {},
   "source": [
    "1. Current Player Count Using Steam API\n",
    "API Interaction: Use the Steam Web API to fetch the current player count for a specified game. Users will input the game name or ID, and your script will fetch real-time data from the API.\n",
    "2. Historical Player Count Using SteamDB\n",
    "- Manual Data Collection: Since steamdb.info doesn't allow automated scraping and lacks an export feature, you'll need to rely on manual data collection. You can create a dataset by manually visiting steamdb.info and recording historical player counts.\n",
    "- Dataset Preparation: Prepare a CSV or JSON file with historical data, including dates and player counts.\n",
    "Data Lookup: When a user requests historical data, your script will look up this pre-prepared file and provide the relevant information.\n",
    "Project Implementation\n",
    "\n",
    "3. For Current Player Count:\n",
    "- User Input: Allow the user to input a game name or ID.\n",
    "-Fetch Current Player Count: Use the Steam API to get the current player count for the input game.\n",
    "\n",
    "4. For Historical Player Count:\n",
    "- User Input: Allow the user to input a game name.\n",
    "- Lookup Historical Data: Access the pre-prepared dataset to find historical player counts for the input game."
   ]
  },
  {
   "cell_type": "code",
   "execution_count": null,
   "metadata": {},
   "outputs": [],
   "source": [
    "#Psuedo\n",
    "import pandas as pd\n",
    "# Other necessary imports... like matlabplot and numpy\n",
    "\n",
    "def fetch_current_player_count(game_id):\n",
    "    # Function to use Steam API to get current player count\n",
    "    # ...\n",
    "\n",
    "def get_historical_player_count(game_name):\n",
    "    # Function to lookup historical data from a pre-prepared file\n",
    "    historical_data = pd.read_csv(\"historical_player_counts.csv\")\n",
    "    return historical_data[historical_data['game_name'] == game_name]\n",
    "\n",
    "def main():\n",
    "    user_choice = input(\"Enter 1 for current player count, 2 for historical data: \")\n",
    "    if user_choice == '1':\n",
    "        game_id = input(\"Enter the game ID: \")\n",
    "        current_count = fetch_current_player_count(game_id)\n",
    "        print(f\"Current player count for {game_id}: {current_count}\")\n",
    "    elif user_choice == '2':\n",
    "        game_name = input(\"Enter the game name: \")\n",
    "        historical_count = get_historical_player_count(game_name)\n",
    "        print(f\"Historical player count for {game_name}:\\n{historical_count}\")\n",
    "\n",
    "if __name__ == \"__main__\":\n",
    "    main()\n"
   ]
  },
  {
   "cell_type": "markdown",
   "metadata": {},
   "source": [
    "csv exm\n",
    "Game Name,Date,Player Count\n",
    "Cyberpunk 2077,2023-01-01,50000\n",
    "Cyberpunk 2077,2023-01-02,52000\n",
    "...\n"
   ]
  }
 ],
 "metadata": {
  "kernelspec": {
   "display_name": "Python 3",
   "language": "python",
   "name": "python3"
  },
  "language_info": {
   "name": "python",
   "version": "3.11.6"
  }
 },
 "nbformat": 4,
 "nbformat_minor": 2
}
